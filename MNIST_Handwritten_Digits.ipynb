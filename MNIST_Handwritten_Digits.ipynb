{
 "cells": [
  {
   "attachments": {},
   "cell_type": "markdown",
   "metadata": {},
   "source": [
    "# Introduction\n",
    "\n",
    "In this project, I built a neural network of your own design to evaluate the MNIST dataset.\n",
    "\n",
    "Some of the benchmark results on MNIST include can be found [on Yann LeCun's page](http://yann.lecun.com/exdb/mnist/) and include:\n",
    "\n",
    "88% [Lecun et al., 1998](http://yann.lecun.com/exdb/publis/pdf/lecun-98.pdf)\n",
    "95.3% [Lecun et al., 1998](http://yann.lecun.com/exdb/publis/pdf/lecun-98.pdf)\n",
    "99.65% [Ciresan et al., 2011](http://people.idsia.ch/~juergen/ijcai2011.pdf)\n",
    "\n",
    "MNIST is a great dataset for sanity checking your models, since the accuracy levels achieved by large convolutional neural networks and small linear models are both quite high. This makes it important to be familiar with the data.\n",
    "\n",
    "## Imports"
   ]
  },
  {
   "cell_type": "code",
   "execution_count": 2,
   "metadata": {},
   "outputs": [],
   "source": [
    "## This cell contains the essential imports you will need – DO NOT CHANGE THE CONTENTS! ##\n",
    "import torch\n",
    "import torch.nn as nn\n",
    "import torch.nn.functional as F\n",
    "import torch.optim as optim\n",
    "import torchvision\n",
    "import torchvision.transforms as transforms\n",
    "import matplotlib.pyplot as plt\n",
    "import numpy as np\n",
    "from torchvision import datasets\n",
    "from torch.utils.data import DataLoader"
   ]
  },
  {
   "attachments": {},
   "cell_type": "markdown",
   "metadata": {},
   "source": [
    "## Loading the Dataset\n",
    "\n"
   ]
  },
  {
   "cell_type": "code",
   "execution_count": 3,
   "metadata": {},
   "outputs": [],
   "source": [
    "# Define transforms\n",
    "transform = transforms.Compose([transforms.ToTensor()])\n",
    "\n",
    "# Create training set and define training dataloader\n",
    "train_data = datasets.MNIST(root=\"data\", train=True, download=False, transform=transform)\n",
    "train_loader = DataLoader(train_data, batch_size=100, shuffle=True)\n",
    "\n",
    "# Create test set and define test dataloader\n",
    "test_data = datasets.MNIST(root=\"data\", train=False, download=False, transform=transform)\n",
    "\n",
    "test_set, val_set = torch.utils.data.random_split(test_data, [5000, 5000])"
   ]
  },
  {
   "cell_type": "code",
   "execution_count": 4,
   "metadata": {},
   "outputs": [],
   "source": [
    "test_loader = DataLoader(test_set, batch_size=100, shuffle=False)\n",
    "val_loader = DataLoader(val_set, batch_size=100, shuffle=False)"
   ]
  },
  {
   "attachments": {},
   "cell_type": "markdown",
   "metadata": {},
   "source": [
    "## Justification for the preprocessing\n",
    "\n"
   ]
  },
  {
   "attachments": {},
   "cell_type": "markdown",
   "metadata": {},
   "source": [
    "The MNIST dataset is an image dataset and before we can work with an image data set in pytorch, it needs to be converted to tensor hence, the need for the `transforms.Compose([transforms.ToTensor()])` command which transforms the data from images to tensor and the `DataLoader` shuffles the data for training and provides it to the model in batches while the `random_split` method splits the test data into validation and test sets."
   ]
  },
  {
   "attachments": {},
   "cell_type": "markdown",
   "metadata": {},
   "source": [
    "## Exploring the Dataset\n",
    "Using matplotlib, numpy, and torch, we can explore the dimensions of your data.\n",
    "\n",
    "We can view images using the `show5` function defined below – it takes a data loader as an argument"
   ]
  },
  {
   "cell_type": "code",
   "execution_count": 5,
   "metadata": {},
   "outputs": [],
   "source": [
    "## This cell contains a function for showing 5 images from a dataloader – DO NOT CHANGE THE CONTENTS! ##\n",
    "def show5(img_loader):\n",
    "    dataiter = iter(img_loader)\n",
    "    \n",
    "    batch = next(dataiter)\n",
    "    labels = batch[1][0:5]\n",
    "    images = batch[0][0:5]\n",
    "    for i in range(5):\n",
    "        print(int(labels[i].detach()))\n",
    "    \n",
    "        image = images[i].numpy()\n",
    "        plt.imshow(image.T.squeeze().T)\n",
    "        plt.show()"
   ]
  },
  {
   "cell_type": "code",
   "execution_count": 6,
   "metadata": {},
   "outputs": [
    {
     "name": "stdout",
     "output_type": "stream",
     "text": [
      "5\n"
     ]
    },
    {
     "data": {
      "image/png": "[encoded data removed]",
      "text/plain": [
       "<Figure size 432x288 with 1 Axes>"
      ]
     },
     "metadata": {
      "needs_background": "light"
     },
     "output_type": "display_data"
    },
    {
     "name": "stdout",
     "output_type": "stream",
     "text": [
      "4\n"
     ]
    },
    {
     "data": {
      "image/png": "[encoded data removed]",
      "text/plain": [
       "<Figure size 432x288 with 1 Axes>"
      ]
     },
     "metadata": {
      "needs_background": "light"
     },
     "output_type": "display_data"
    },
    {
     "name": "stdout",
     "output_type": "stream",
     "text": [
      "0\n"
     ]
    },
    {
     "data": {
      "image/png": "[encoded data removed]",
      "text/plain": [
       "<Figure size 432x288 with 1 Axes>"
      ]
     },
     "metadata": {
      "needs_background": "light"
     },
     "output_type": "display_data"
    },
    {
     "name": "stdout",
     "output_type": "stream",
     "text": [
      "6\n"
     ]
    },
    {
     "data": {
      "image/png": "[encoded data removed]",
      "text/plain": [
       "<Figure size 432x288 with 1 Axes>"
      ]
     },
     "metadata": {
      "needs_background": "light"
     },
     "output_type": "display_data"
    },
    {
     "name": "stdout",
     "output_type": "stream",
     "text": [
      "3\n"
     ]
    },
    {
     "data": {
      "image/png": "[encoded data removed]",
      "text/plain": [
       "<Figure size 432x288 with 1 Axes>"
      ]
     },
     "metadata": {
      "needs_background": "light"
     },
     "output_type": "display_data"
    }
   ],
   "source": [
    "# Explore data\n",
    "show5(train_loader)"
   ]
  },
  {
   "attachments": {},
   "cell_type": "markdown",
   "metadata": {},
   "source": [
    "## Building the Neural Network\n",
    "Using the layers in `torch.nn` (which has been imported as `nn`) and the `torch.nn.functional` module (imported as `F`), we can construct a neural network based on the parameters of the dataset."
   ]
  },
  {
   "cell_type": "code",
   "execution_count": 7,
   "metadata": {},
   "outputs": [],
   "source": [
    "input_size = 28*28\n",
    "num_classes = 10"
   ]
  },
  {
   "cell_type": "code",
   "execution_count": 17,
   "metadata": {},
   "outputs": [],
   "source": [
    "def accuracy(outputs, labels):\n",
    "    _, preds = torch.max(outputs, dim=1)\n",
    "    return torch.tensor(torch.sum(preds == labels).item() / len(preds))"
   ]
  },
  {
   "cell_type": "code",
   "execution_count": 18,
   "metadata": {},
   "outputs": [],
   "source": [
    "class MnistModel(nn.Module):\n",
    "    def __init__(self):\n",
    "        super().__init__()\n",
    "        self.linear = nn.Linear(input_size, num_classes)\n",
    "        \n",
    "    def forward(self, xb):\n",
    "        xb = torch.flatten(xb, 1) # flatten all dimensions except batch\n",
    "        out = self.linear(xb)\n",
    "        return out\n",
    "    \n",
    "    def training_step(self, batch):\n",
    "        images, labels = batch \n",
    "        out = self(images)                  # Generate predictions\n",
    "        loss = F.cross_entropy(out, labels) # Calculate loss\n",
    "        acc = accuracy(out, labels)           # Calculate accuracy\n",
    "        return {'train_loss': loss, 'train_acc': acc}\n",
    "        \n",
    "    def training_epoch_end(self, outputs):\n",
    "        batch_losses = [x['train_loss'] for x in outputs]\n",
    "        epoch_loss = torch.stack(batch_losses).mean()   # Combine losses\n",
    "        batch_accs = [x['train_acc'] for x in outputs]\n",
    "        epoch_acc = torch.stack(batch_accs).mean()      # Combine accuracies\n",
    "        return {'train_loss': epoch_loss.item(), 'train_acc': epoch_acc.item()}\n",
    "    \n",
    "    def validation_step(self, batch):\n",
    "        images, labels = batch \n",
    "        out = self(images)                    # Generate predictions\n",
    "        loss = F.cross_entropy(out, labels)   # Calculate loss\n",
    "        acc = accuracy(out, labels)           # Calculate accuracy\n",
    "        return {'val_loss': loss, 'val_acc': acc}\n",
    "        \n",
    "    def validation_epoch_end(self, outputs):\n",
    "        batch_losses = [x['val_loss'] for x in outputs]\n",
    "        epoch_loss = torch.stack(batch_losses).mean()   # Combine losses\n",
    "        batch_accs = [x['val_acc'] for x in outputs]\n",
    "        epoch_acc = torch.stack(batch_accs).mean()      # Combine accuracies\n",
    "        return {'val_loss': epoch_loss.item(), 'val_acc': epoch_acc.item()}\n",
    "    \n",
    "    def train_epoch_end(self, epoch, result):\n",
    "        print(\"Epoch [{}], train_loss: {:.4f}, train_acc: {:.4f}\".format(epoch, result['train_loss'], result['train_acc']))\n",
    "\n",
    "    def val_epoch_end(self, epoch, result):\n",
    "        print(\"Epoch [{}], val_loss: {:.4f}, val_acc: {:.4f}\".format(epoch, result['val_loss'], result['val_acc']))\n",
    "    \n",
    "model = MnistModel()"
   ]
  },
  {
   "cell_type": "code",
   "execution_count": 23,
   "metadata": {},
   "outputs": [
    {
     "name": "stdout",
     "output_type": "stream",
     "text": [
      "torch.Size([100, 1, 28, 28])\n",
      "outputs.shape :  torch.Size([100, 10])\n",
      "Sample outputs :\n",
      " tensor([[-0.1287,  0.2651, -0.0036,  0.2949,  0.4563,  0.1753,  0.2856,  0.1520,\n",
      "         -0.2446,  0.1246],\n",
      "        [ 0.0363,  0.1971, -0.1237,  0.4033,  0.3938,  0.0698,  0.2079, -0.0719,\n",
      "          0.0347,  0.0148]])\n"
     ]
    }
   ],
   "source": [
    "for images, labels in train_loader:\n",
    "    print(images.shape)\n",
    "    outputs = model(images)\n",
    "    break\n",
    "\n",
    "print('outputs.shape : ', outputs.shape)\n",
    "print('Sample outputs :\\n', outputs[:2].data)"
   ]
  },
  {
   "attachments": {},
   "cell_type": "markdown",
   "metadata": {},
   "source": [
    "## Running the Neural Network\n"
   ]
  },
  {
   "cell_type": "code",
   "execution_count": 9,
   "metadata": {},
   "outputs": [],
   "source": [
    "def evaluate_train(model, train_loader):\n",
    "    outputs = [model.training_step(batch) for batch in train_loader]\n",
    "    return model.training_epoch_end(outputs)\n",
    "\n",
    "def evaluate_val(model, val_loader):\n",
    "    outputs = [model.validation_step(batch) for batch in val_loader]\n",
    "    return model.validation_epoch_end(outputs)"
   ]
  },
  {
   "cell_type": "code",
   "execution_count": 19,
   "metadata": {},
   "outputs": [],
   "source": [
    "def fit(epochs, lr, model, train_loader, val_loader, opt_func=torch.optim.SGD):\n",
    "    optimizer = opt_func(model.parameters(), lr)\n",
    "    history = [] # for recording epoch-wise results\n",
    "    \n",
    "    for epoch in range(epochs):\n",
    "        \n",
    "        # Training Phase \n",
    "        for batch in train_loader:\n",
    "            result = model.training_step(batch)\n",
    "            result[\"train_loss\"].backward()\n",
    "            optimizer.step()\n",
    "            optimizer.zero_grad()\n",
    "\n",
    "        result0 = evaluate_train(model, train_loader)\n",
    "        model.train_epoch_end(epoch, result0)\n",
    "        history.append(result0)\n",
    "        \n",
    "        # Validation phase\n",
    "        result1 = evaluate_val(model, val_loader)\n",
    "        model.val_epoch_end(epoch, result1)\n",
    "        history.append(result1)\n",
    "\n",
    "    return history"
   ]
  },
  {
   "cell_type": "code",
   "execution_count": 23,
   "metadata": {},
   "outputs": [
    {
     "name": "stdout",
     "output_type": "stream",
     "text": [
      "Epoch [0], train_loss: 1.1070, train_acc: 0.8095\n",
      "Epoch [0], val_loss: 1.0818, val_acc: 0.8258\n",
      "Epoch [1], train_loss: 1.0027, train_acc: 0.8204\n",
      "Epoch [1], val_loss: 0.9756, val_acc: 0.8352\n",
      "Epoch [2], train_loss: 0.9247, train_acc: 0.8286\n",
      "Epoch [2], val_loss: 0.8961, val_acc: 0.8424\n",
      "Epoch [3], train_loss: 0.8641, train_acc: 0.8343\n",
      "Epoch [3], val_loss: 0.8345, val_acc: 0.8482\n",
      "Epoch [4], train_loss: 0.8158, train_acc: 0.8388\n",
      "Epoch [4], val_loss: 0.7852, val_acc: 0.8536\n",
      "Epoch [5], train_loss: 0.7761, train_acc: 0.8427\n",
      "Epoch [5], val_loss: 0.7449, val_acc: 0.8576\n",
      "Epoch [6], train_loss: 0.7431, train_acc: 0.8468\n",
      "Epoch [6], val_loss: 0.7114, val_acc: 0.8600\n",
      "Epoch [7], train_loss: 0.7150, train_acc: 0.8497\n",
      "Epoch [7], val_loss: 0.6830, val_acc: 0.8630\n",
      "Epoch [8], train_loss: 0.6908, train_acc: 0.8519\n",
      "Epoch [8], val_loss: 0.6584, val_acc: 0.8670\n",
      "Epoch [9], train_loss: 0.6698, train_acc: 0.8542\n",
      "Epoch [9], val_loss: 0.6370, val_acc: 0.8680\n",
      "Epoch [10], train_loss: 0.6513, train_acc: 0.8564\n",
      "Epoch [10], val_loss: 0.6182, val_acc: 0.8708\n",
      "Epoch [11], train_loss: 0.6348, train_acc: 0.8584\n",
      "Epoch [11], val_loss: 0.6015, val_acc: 0.8730\n",
      "Epoch [12], train_loss: 0.6201, train_acc: 0.8600\n",
      "Epoch [12], val_loss: 0.5866, val_acc: 0.8740\n",
      "Epoch [13], train_loss: 0.6068, train_acc: 0.8615\n",
      "Epoch [13], val_loss: 0.5732, val_acc: 0.8746\n",
      "Epoch [14], train_loss: 0.5948, train_acc: 0.8626\n",
      "Epoch [14], val_loss: 0.5610, val_acc: 0.8758\n",
      "Epoch [15], train_loss: 0.5839, train_acc: 0.8637\n",
      "Epoch [15], val_loss: 0.5498, val_acc: 0.8768\n",
      "Epoch [16], train_loss: 0.5738, train_acc: 0.8652\n",
      "Epoch [16], val_loss: 0.5398, val_acc: 0.8792\n",
      "Epoch [17], train_loss: 0.5646, train_acc: 0.8665\n",
      "Epoch [17], val_loss: 0.5304, val_acc: 0.8802\n",
      "Epoch [18], train_loss: 0.5561, train_acc: 0.8674\n",
      "Epoch [18], val_loss: 0.5217, val_acc: 0.8814\n",
      "Epoch [19], train_loss: 0.5482, train_acc: 0.8685\n",
      "Epoch [19], val_loss: 0.5137, val_acc: 0.8818\n"
     ]
    }
   ],
   "source": [
    "history = fit(20, 0.001, model, train_loader, val_loader)"
   ]
  },
  {
   "cell_type": "code",
   "execution_count": 80,
   "metadata": {},
   "outputs": [
    {
     "data": {
      "text/plain": [
       "[{'train_loss': 0.5310081243515015, 'train_acc': 0.8707500100135803},\n",
       " {'val_loss': 0.5061314105987549, 'val_acc': 0.8829999566078186},\n",
       " {'train_loss': 0.5247629284858704, 'train_acc': 0.8718833327293396},\n",
       " {'val_loss': 0.5000216960906982, 'val_acc': 0.8833999633789062},\n",
       " {'train_loss': 0.5188950300216675, 'train_acc': 0.8727165460586548},\n",
       " {'val_loss': 0.4942259192466736, 'val_acc': 0.8835999369621277},\n",
       " {'train_loss': 0.5133684873580933, 'train_acc': 0.8736333250999451},\n",
       " {'val_loss': 0.48880496621131897, 'val_acc': 0.8841999769210815},\n",
       " {'train_loss': 0.508156955242157, 'train_acc': 0.8741500973701477},\n",
       " {'val_loss': 0.4836615324020386, 'val_acc': 0.8849999308586121},\n",
       " {'train_loss': 0.5032294392585754, 'train_acc': 0.8748832941055298},\n",
       " {'val_loss': 0.4789188504219055, 'val_acc': 0.885200023651123},\n",
       " {'train_loss': 0.49855899810791016, 'train_acc': 0.8758166432380676},\n",
       " {'val_loss': 0.474338173866272, 'val_acc': 0.8851999640464783},\n",
       " {'train_loss': 0.49412810802459717, 'train_acc': 0.8765833377838135},\n",
       " {'val_loss': 0.46997082233428955, 'val_acc': 0.8859999775886536},\n",
       " {'train_loss': 0.48991596698760986, 'train_acc': 0.8774166107177734},\n",
       " {'val_loss': 0.46584832668304443, 'val_acc': 0.886199951171875},\n",
       " {'train_loss': 0.48590973019599915, 'train_acc': 0.8783166408538818},\n",
       " {'val_loss': 0.4618934392929077, 'val_acc': 0.8869999647140503},\n",
       " {'train_loss': 0.48208343982696533, 'train_acc': 0.8787500262260437},\n",
       " {'val_loss': 0.45823708176612854, 'val_acc': 0.8871999979019165},\n",
       " {'train_loss': 0.47843077778816223, 'train_acc': 0.8793333172798157},\n",
       " {'val_loss': 0.4545935392379761, 'val_acc': 0.8874000310897827},\n",
       " {'train_loss': 0.4749395251274109, 'train_acc': 0.8799666166305542},\n",
       " {'val_loss': 0.4512375295162201, 'val_acc': 0.8880000114440918},\n",
       " {'train_loss': 0.4715965688228607, 'train_acc': 0.8802832961082458},\n",
       " {'val_loss': 0.44797348976135254, 'val_acc': 0.8880000114440918},\n",
       " {'train_loss': 0.46839430928230286, 'train_acc': 0.8806999921798706},\n",
       " {'val_loss': 0.4448576271533966, 'val_acc': 0.8887999653816223},\n",
       " {'train_loss': 0.4653201401233673, 'train_acc': 0.8811333179473877},\n",
       " {'val_loss': 0.44182923436164856, 'val_acc': 0.88919997215271},\n",
       " {'train_loss': 0.4623640477657318, 'train_acc': 0.8817332983016968},\n",
       " {'val_loss': 0.4389459490776062, 'val_acc': 0.8899999856948853},\n",
       " {'train_loss': 0.4595235586166382, 'train_acc': 0.8820833563804626},\n",
       " {'val_loss': 0.4361838400363922, 'val_acc': 0.8903999924659729},\n",
       " {'train_loss': 0.4567878842353821, 'train_acc': 0.8826332688331604},\n",
       " {'val_loss': 0.4335228204727173, 'val_acc': 0.8900001049041748},\n",
       " {'train_loss': 0.45415282249450684, 'train_acc': 0.8830832839012146},\n",
       " {'val_loss': 0.4309626519680023, 'val_acc': 0.8907999992370605}]"
      ]
     },
     "execution_count": 80,
     "metadata": {},
     "output_type": "execute_result"
    }
   ],
   "source": [
    "history"
   ]
  },
  {
   "cell_type": "code",
   "execution_count": 83,
   "metadata": {},
   "outputs": [
    {
     "data": {
      "text/plain": [
       "[0.5310081243515015,\n",
       " 0.5247629284858704,\n",
       " 0.5188950300216675,\n",
       " 0.5133684873580933,\n",
       " 0.508156955242157,\n",
       " 0.5032294392585754,\n",
       " 0.49855899810791016,\n",
       " 0.49412810802459717,\n",
       " 0.48991596698760986,\n",
       " 0.48590973019599915,\n",
       " 0.48208343982696533,\n",
       " 0.47843077778816223,\n",
       " 0.4749395251274109,\n",
       " 0.4715965688228607,\n",
       " 0.46839430928230286,\n",
       " 0.4653201401233673,\n",
       " 0.4623640477657318,\n",
       " 0.4595235586166382,\n",
       " 0.4567878842353821,\n",
       " 0.45415282249450684]"
      ]
     },
     "execution_count": 83,
     "metadata": {},
     "output_type": "execute_result"
    }
   ],
   "source": [
    "train_loss = [history[i][\"train_loss\"] for i in range(0, 40, 2)]\n",
    "train_loss"
   ]
  },
  {
   "cell_type": "code",
   "execution_count": 84,
   "metadata": {},
   "outputs": [
    {
     "data": {
      "text/plain": [
       "[0.5061314105987549,\n",
       " 0.5000216960906982,\n",
       " 0.4942259192466736,\n",
       " 0.48880496621131897,\n",
       " 0.4836615324020386,\n",
       " 0.4789188504219055,\n",
       " 0.474338173866272,\n",
       " 0.46997082233428955,\n",
       " 0.46584832668304443,\n",
       " 0.4618934392929077,\n",
       " 0.45823708176612854,\n",
       " 0.4545935392379761,\n",
       " 0.4512375295162201,\n",
       " 0.44797348976135254,\n",
       " 0.4448576271533966,\n",
       " 0.44182923436164856,\n",
       " 0.4389459490776062,\n",
       " 0.4361838400363922,\n",
       " 0.4335228204727173,\n",
       " 0.4309626519680023]"
      ]
     },
     "execution_count": 84,
     "metadata": {},
     "output_type": "execute_result"
    }
   ],
   "source": [
    "val_loss = [history[i][\"val_loss\"] for i in range(1, 41, 2)]\n",
    "val_loss"
   ]
  },
  {
   "attachments": {},
   "cell_type": "markdown",
   "metadata": {},
   "source": [
    "Plotting the training loss against validation loss/accuracy."
   ]
  },
  {
   "cell_type": "code",
   "execution_count": 86,
   "metadata": {},
   "outputs": [],
   "source": [
    "import matplotlib.pyplot as plt"
   ]
  },
  {
   "cell_type": "code",
   "execution_count": 87,
   "metadata": {},
   "outputs": [
    {
     "data": {
      "image/png": "[encoded data removed]",
      "text/plain": [
       "<Figure size 432x288 with 1 Axes>"
      ]
     },
     "metadata": {
      "needs_background": "light"
     },
     "output_type": "display_data"
    }
   ],
   "source": [
    "plt.plot(train_loss, label=\"Training Loss\")\n",
    "plt.plot(val_loss, label=\"Validation Loss\")\n",
    "plt.legend()\n",
    "plt.show()"
   ]
  },
  {
   "attachments": {},
   "cell_type": "markdown",
   "metadata": {},
   "source": [
    "## Testing the model"
   ]
  },
  {
   "cell_type": "code",
   "execution_count": 88,
   "metadata": {},
   "outputs": [
    {
     "data": {
      "text/plain": [
       "{'val_loss': 0.43364474177360535, 'val_acc': 0.886400043964386}"
      ]
     },
     "execution_count": 88,
     "metadata": {},
     "output_type": "execute_result"
    }
   ],
   "source": [
    "result = evaluate_val(model, test_loader)\n",
    "result"
   ]
  },
  {
   "attachments": {},
   "cell_type": "markdown",
   "metadata": {},
   "source": [
    "## Improving the model\n",
    "\n",
    "Increasing the number of epochs"
   ]
  },
  {
   "cell_type": "code",
   "execution_count": 89,
   "metadata": {},
   "outputs": [
    {
     "name": "stdout",
     "output_type": "stream",
     "text": [
      "Epoch [0], train_loss: 0.4516, train_acc: 0.8835\n",
      "Epoch [0], val_loss: 0.4285, val_acc: 0.8918\n",
      "Epoch [1], train_loss: 0.4492, train_acc: 0.8840\n",
      "Epoch [1], val_loss: 0.4261, val_acc: 0.8920\n",
      "Epoch [2], train_loss: 0.4468, train_acc: 0.8843\n",
      "Epoch [2], val_loss: 0.4238, val_acc: 0.8928\n",
      "Epoch [3], train_loss: 0.4445, train_acc: 0.8846\n",
      "Epoch [3], val_loss: 0.4215, val_acc: 0.8932\n",
      "Epoch [4], train_loss: 0.4423, train_acc: 0.8851\n",
      "Epoch [4], val_loss: 0.4194, val_acc: 0.8934\n",
      "Epoch [5], train_loss: 0.4401, train_acc: 0.8856\n",
      "Epoch [5], val_loss: 0.4173, val_acc: 0.8938\n",
      "Epoch [6], train_loss: 0.4381, train_acc: 0.8860\n",
      "Epoch [6], val_loss: 0.4153, val_acc: 0.8940\n",
      "Epoch [7], train_loss: 0.4361, train_acc: 0.8864\n",
      "Epoch [7], val_loss: 0.4134, val_acc: 0.8940\n",
      "Epoch [8], train_loss: 0.4341, train_acc: 0.8868\n",
      "Epoch [8], val_loss: 0.4115, val_acc: 0.8946\n",
      "Epoch [9], train_loss: 0.4322, train_acc: 0.8872\n",
      "Epoch [9], val_loss: 0.4096, val_acc: 0.8950\n",
      "Epoch [10], train_loss: 0.4304, train_acc: 0.8874\n",
      "Epoch [10], val_loss: 0.4079, val_acc: 0.8948\n",
      "Epoch [11], train_loss: 0.4286, train_acc: 0.8878\n",
      "Epoch [11], val_loss: 0.4061, val_acc: 0.8954\n",
      "Epoch [12], train_loss: 0.4268, train_acc: 0.8879\n",
      "Epoch [12], val_loss: 0.4045, val_acc: 0.8956\n",
      "Epoch [13], train_loss: 0.4251, train_acc: 0.8883\n",
      "Epoch [13], val_loss: 0.4029, val_acc: 0.8958\n",
      "Epoch [14], train_loss: 0.4235, train_acc: 0.8887\n",
      "Epoch [14], val_loss: 0.4012, val_acc: 0.8954\n",
      "Epoch [15], train_loss: 0.4219, train_acc: 0.8890\n",
      "Epoch [15], val_loss: 0.3997, val_acc: 0.8960\n",
      "Epoch [16], train_loss: 0.4203, train_acc: 0.8892\n",
      "Epoch [16], val_loss: 0.3982, val_acc: 0.8960\n",
      "Epoch [17], train_loss: 0.4188, train_acc: 0.8894\n",
      "Epoch [17], val_loss: 0.3967, val_acc: 0.8964\n",
      "Epoch [18], train_loss: 0.4173, train_acc: 0.8898\n",
      "Epoch [18], val_loss: 0.3953, val_acc: 0.8966\n",
      "Epoch [19], train_loss: 0.4159, train_acc: 0.8902\n",
      "Epoch [19], val_loss: 0.3939, val_acc: 0.8968\n",
      "Epoch [20], train_loss: 0.4145, train_acc: 0.8904\n",
      "Epoch [20], val_loss: 0.3925, val_acc: 0.8972\n",
      "Epoch [21], train_loss: 0.4131, train_acc: 0.8906\n",
      "Epoch [21], val_loss: 0.3912, val_acc: 0.8974\n",
      "Epoch [22], train_loss: 0.4117, train_acc: 0.8910\n",
      "Epoch [22], val_loss: 0.3899, val_acc: 0.8976\n",
      "Epoch [23], train_loss: 0.4104, train_acc: 0.8913\n",
      "Epoch [23], val_loss: 0.3886, val_acc: 0.8978\n",
      "Epoch [24], train_loss: 0.4091, train_acc: 0.8916\n",
      "Epoch [24], val_loss: 0.3874, val_acc: 0.8982\n",
      "Epoch [25], train_loss: 0.4079, train_acc: 0.8918\n",
      "Epoch [25], val_loss: 0.3862, val_acc: 0.8982\n",
      "Epoch [26], train_loss: 0.4066, train_acc: 0.8921\n",
      "Epoch [26], val_loss: 0.3850, val_acc: 0.8986\n",
      "Epoch [27], train_loss: 0.4054, train_acc: 0.8923\n",
      "Epoch [27], val_loss: 0.3838, val_acc: 0.8986\n",
      "Epoch [28], train_loss: 0.4043, train_acc: 0.8924\n",
      "Epoch [28], val_loss: 0.3827, val_acc: 0.8994\n",
      "Epoch [29], train_loss: 0.4031, train_acc: 0.8926\n",
      "Epoch [29], val_loss: 0.3816, val_acc: 0.8994\n"
     ]
    },
    {
     "data": {
      "text/plain": [
       "[{'train_loss': 0.4516122043132782, 'train_acc': 0.8834999799728394},\n",
       " {'val_loss': 0.4284623861312866, 'val_acc': 0.8918001055717468},\n",
       " {'train_loss': 0.44916239380836487, 'train_acc': 0.8839666843414307},\n",
       " {'val_loss': 0.4261428713798523, 'val_acc': 0.8919999599456787},\n",
       " {'train_loss': 0.4467918276786804, 'train_acc': 0.8843000531196594},\n",
       " {'val_loss': 0.42378225922584534, 'val_acc': 0.892799973487854},\n",
       " {'train_loss': 0.44450363516807556, 'train_acc': 0.884600043296814},\n",
       " {'val_loss': 0.42152637243270874, 'val_acc': 0.8932000994682312},\n",
       " {'train_loss': 0.44228801131248474, 'train_acc': 0.8850666284561157},\n",
       " {'val_loss': 0.4193544387817383, 'val_acc': 0.8934000134468079},\n",
       " {'train_loss': 0.44014227390289307, 'train_acc': 0.8855500221252441},\n",
       " {'val_loss': 0.41730058193206787, 'val_acc': 0.8937999606132507},\n",
       " {'train_loss': 0.4380638003349304, 'train_acc': 0.8859667181968689},\n",
       " {'val_loss': 0.41529545187950134, 'val_acc': 0.8939999938011169},\n",
       " {'train_loss': 0.4360509216785431, 'train_acc': 0.8864333033561707},\n",
       " {'val_loss': 0.41338884830474854, 'val_acc': 0.8939999938011169},\n",
       " {'train_loss': 0.43409737944602966, 'train_acc': 0.8868167400360107},\n",
       " {'val_loss': 0.4115118682384491, 'val_acc': 0.894599974155426},\n",
       " {'train_loss': 0.43220022320747375, 'train_acc': 0.8871833086013794},\n",
       " {'val_loss': 0.4096119999885559, 'val_acc': 0.8950001001358032},\n",
       " {'train_loss': 0.43035879731178284, 'train_acc': 0.8874000310897827},\n",
       " {'val_loss': 0.4078730642795563, 'val_acc': 0.8948001265525818},\n",
       " {'train_loss': 0.4285689890384674, 'train_acc': 0.8878166675567627},\n",
       " {'val_loss': 0.4061240255832672, 'val_acc': 0.8953999876976013},\n",
       " {'train_loss': 0.4268307387828827, 'train_acc': 0.8878666162490845},\n",
       " {'val_loss': 0.404479444026947, 'val_acc': 0.8956000804901123},\n",
       " {'train_loss': 0.4251368045806885, 'train_acc': 0.8883334398269653},\n",
       " {'val_loss': 0.4028506577014923, 'val_acc': 0.895799994468689},\n",
       " {'train_loss': 0.42349228262901306, 'train_acc': 0.8886500000953674},\n",
       " {'val_loss': 0.40115460753440857, 'val_acc': 0.8953999280929565},\n",
       " {'train_loss': 0.4218868017196655, 'train_acc': 0.8889666795730591},\n",
       " {'val_loss': 0.3997272849082947, 'val_acc': 0.8960000872612},\n",
       " {'train_loss': 0.42032304406166077, 'train_acc': 0.8892166018486023},\n",
       " {'val_loss': 0.39815762639045715, 'val_acc': 0.8960000872612},\n",
       " {'train_loss': 0.4188007712364197, 'train_acc': 0.8894166946411133},\n",
       " {'val_loss': 0.39668330550193787, 'val_acc': 0.8964000940322876},\n",
       " {'train_loss': 0.4173165261745453, 'train_acc': 0.889833390712738},\n",
       " {'val_loss': 0.39527761936187744, 'val_acc': 0.8966000080108643},\n",
       " {'train_loss': 0.415868878364563, 'train_acc': 0.8901500701904297},\n",
       " {'val_loss': 0.3938722610473633, 'val_acc': 0.8967999815940857},\n",
       " {'train_loss': 0.4144545793533325, 'train_acc': 0.89041668176651},\n",
       " {'val_loss': 0.392527312040329, 'val_acc': 0.8971999883651733},\n",
       " {'train_loss': 0.4130750000476837, 'train_acc': 0.8905999660491943},\n",
       " {'val_loss': 0.3911982774734497, 'val_acc': 0.8973999619483948},\n",
       " {'train_loss': 0.41172847151756287, 'train_acc': 0.8909500241279602},\n",
       " {'val_loss': 0.3898533880710602, 'val_acc': 0.8975999355316162},\n",
       " {'train_loss': 0.41041117906570435, 'train_acc': 0.8912667036056519},\n",
       " {'val_loss': 0.3886142075061798, 'val_acc': 0.8977999687194824},\n",
       " {'train_loss': 0.4091244041919708, 'train_acc': 0.8915500044822693},\n",
       " {'val_loss': 0.3873741030693054, 'val_acc': 0.8981999754905701},\n",
       " {'train_loss': 0.4078669846057892, 'train_acc': 0.8917666673660278},\n",
       " {'val_loss': 0.38619154691696167, 'val_acc': 0.8981999754905701},\n",
       " {'train_loss': 0.4066367447376251, 'train_acc': 0.8921499848365784},\n",
       " {'val_loss': 0.38501933217048645, 'val_acc': 0.8985999822616577},\n",
       " {'train_loss': 0.40543311834335327, 'train_acc': 0.8922500610351562},\n",
       " {'val_loss': 0.38383328914642334, 'val_acc': 0.8985999822616577},\n",
       " {'train_loss': 0.404255211353302, 'train_acc': 0.8924499750137329},\n",
       " {'val_loss': 0.38270699977874756, 'val_acc': 0.8993999361991882},\n",
       " {'train_loss': 0.40310221910476685, 'train_acc': 0.8926332592964172},\n",
       " {'val_loss': 0.3815893530845642, 'val_acc': 0.8993999361991882}]"
      ]
     },
     "execution_count": 89,
     "metadata": {},
     "output_type": "execute_result"
    }
   ],
   "source": [
    "fit(30, 0.001, model, train_loader, val_loader)"
   ]
  },
  {
   "attachments": {},
   "cell_type": "markdown",
   "metadata": {},
   "source": [
    "## Saving the model\n",
    "Using `torch.save` to save the model for future loading."
   ]
  },
  {
   "cell_type": "code",
   "execution_count": 90,
   "metadata": {},
   "outputs": [],
   "source": [
    "torch.save(model.state_dict(), 'model/mnist-logistic.pth')"
   ]
  }
 ],
 "metadata": {
  "kernelspec": {
   "display_name": "Python 3",
   "language": "python",
   "name": "python3"
  },
  "language_info": {
   "codemirror_mode": {
    "name": "ipython",
    "version": 3
   },
   "file_extension": ".py",
   "mimetype": "text/x-python",
   "name": "python",
   "nbconvert_exporter": "python",
   "pygments_lexer": "ipython3",
   "version": "3.9.7"
  }
 },
 "nbformat": 4,
 "nbformat_minor": 4
}
